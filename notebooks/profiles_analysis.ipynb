{
 "cells": [
  {
   "cell_type": "code",
   "execution_count": 51,
   "metadata": {},
   "outputs": [],
   "source": [
    "import json\n",
    "\n",
    "import pandas as pd\n",
    "import numpy as np\n",
    "import matplotlib.pyplot as plt"
   ]
  },
  {
   "cell_type": "code",
   "execution_count": 43,
   "metadata": {},
   "outputs": [],
   "source": [
    "df = pd.read_json('../data/people.json')"
   ]
  },
  {
   "cell_type": "code",
   "execution_count": 44,
   "metadata": {},
   "outputs": [
    {
     "data": {
      "text/html": [
       "<div>\n",
       "<style scoped>\n",
       "    .dataframe tbody tr th:only-of-type {\n",
       "        vertical-align: middle;\n",
       "    }\n",
       "\n",
       "    .dataframe tbody tr th {\n",
       "        vertical-align: top;\n",
       "    }\n",
       "\n",
       "    .dataframe thead th {\n",
       "        text-align: right;\n",
       "    }\n",
       "</style>\n",
       "<table border=\"1\" class=\"dataframe\">\n",
       "  <thead>\n",
       "    <tr style=\"text-align: right;\">\n",
       "      <th></th>\n",
       "      <th>full_name</th>\n",
       "      <th>job_title</th>\n",
       "      <th>division</th>\n",
       "      <th>department</th>\n",
       "      <th>certifications</th>\n",
       "      <th>advanced_skills</th>\n",
       "      <th>intermediate_skills</th>\n",
       "      <th>basic_skills</th>\n",
       "    </tr>\n",
       "  </thead>\n",
       "  <tbody>\n",
       "    <tr>\n",
       "      <th>0</th>\n",
       "      <td>Michael Doe</td>\n",
       "      <td>Data Scientist</td>\n",
       "      <td>Data &amp; Analytics</td>\n",
       "      <td>Enterprise Data Architecture</td>\n",
       "      <td>[Certified Data Architect (CDA), Cloudera CCA]</td>\n",
       "      <td>[Big data technologies, Cloud computing platfo...</td>\n",
       "      <td>[Java, R, Linear algebra]</td>\n",
       "      <td>[Programming languages, Version control system...</td>\n",
       "    </tr>\n",
       "    <tr>\n",
       "      <th>1</th>\n",
       "      <td>Elizabeth Brown</td>\n",
       "      <td>Data Architect</td>\n",
       "      <td>Data &amp; Analytics</td>\n",
       "      <td>Data Engineering</td>\n",
       "      <td>[Certified Data Architect (CDA), Cloudera CCA]</td>\n",
       "      <td>[Big data technologies, SQL, Data visualization]</td>\n",
       "      <td>[Java, R, Calculus]</td>\n",
       "      <td>[Programming languages, Version control system...</td>\n",
       "    </tr>\n",
       "    <tr>\n",
       "      <th>2</th>\n",
       "      <td>Robert Taylor</td>\n",
       "      <td>Data Engineer</td>\n",
       "      <td>Data &amp; Analytics</td>\n",
       "      <td>Enterprise Data Architecture</td>\n",
       "      <td>[Certified Data Architect (CDA), TOGAF 9 Found...</td>\n",
       "      <td>[Data modeling, Cloud computing platforms, Dee...</td>\n",
       "      <td>[Python, R, Calculus]</td>\n",
       "      <td>[Communication skills, Communication skills, A...</td>\n",
       "    </tr>\n",
       "    <tr>\n",
       "      <th>3</th>\n",
       "      <td>Susan Doe</td>\n",
       "      <td>Data Architect</td>\n",
       "      <td>Data &amp; Analytics</td>\n",
       "      <td>Enterprise Data Architecture</td>\n",
       "      <td>[Apache Spark Certified Professional, Microsof...</td>\n",
       "      <td>[Data integration, NoSQL, Data visualization]</td>\n",
       "      <td>[Python, Spark, Statistics]</td>\n",
       "      <td>[Communication skills, Version control systems...</td>\n",
       "    </tr>\n",
       "    <tr>\n",
       "      <th>4</th>\n",
       "      <td>David Taylor</td>\n",
       "      <td>Data Scientist</td>\n",
       "      <td>Data &amp; Analytics</td>\n",
       "      <td>Enterprise Data Architecture</td>\n",
       "      <td>[Google Certified Professional Cloud Data Engi...</td>\n",
       "      <td>[Big data technologies, Cloud computing platfo...</td>\n",
       "      <td>[Java, Scala, Linear algebra]</td>\n",
       "      <td>[Communication skills, Communication skills, C...</td>\n",
       "    </tr>\n",
       "  </tbody>\n",
       "</table>\n",
       "</div>"
      ],
      "text/plain": [
       "         full_name       job_title          division  \\\n",
       "0      Michael Doe  Data Scientist  Data & Analytics   \n",
       "1  Elizabeth Brown  Data Architect  Data & Analytics   \n",
       "2    Robert Taylor   Data Engineer  Data & Analytics   \n",
       "3        Susan Doe  Data Architect  Data & Analytics   \n",
       "4     David Taylor  Data Scientist  Data & Analytics   \n",
       "\n",
       "                     department  \\\n",
       "0  Enterprise Data Architecture   \n",
       "1              Data Engineering   \n",
       "2  Enterprise Data Architecture   \n",
       "3  Enterprise Data Architecture   \n",
       "4  Enterprise Data Architecture   \n",
       "\n",
       "                                      certifications  \\\n",
       "0     [Certified Data Architect (CDA), Cloudera CCA]   \n",
       "1     [Certified Data Architect (CDA), Cloudera CCA]   \n",
       "2  [Certified Data Architect (CDA), TOGAF 9 Found...   \n",
       "3  [Apache Spark Certified Professional, Microsof...   \n",
       "4  [Google Certified Professional Cloud Data Engi...   \n",
       "\n",
       "                                     advanced_skills  \\\n",
       "0  [Big data technologies, Cloud computing platfo...   \n",
       "1   [Big data technologies, SQL, Data visualization]   \n",
       "2  [Data modeling, Cloud computing platforms, Dee...   \n",
       "3      [Data integration, NoSQL, Data visualization]   \n",
       "4  [Big data technologies, Cloud computing platfo...   \n",
       "\n",
       "             intermediate_skills  \\\n",
       "0      [Java, R, Linear algebra]   \n",
       "1            [Java, R, Calculus]   \n",
       "2          [Python, R, Calculus]   \n",
       "3    [Python, Spark, Statistics]   \n",
       "4  [Java, Scala, Linear algebra]   \n",
       "\n",
       "                                        basic_skills  \n",
       "0  [Programming languages, Version control system...  \n",
       "1  [Programming languages, Version control system...  \n",
       "2  [Communication skills, Communication skills, A...  \n",
       "3  [Communication skills, Version control systems...  \n",
       "4  [Communication skills, Communication skills, C...  "
      ]
     },
     "execution_count": 44,
     "metadata": {},
     "output_type": "execute_result"
    }
   ],
   "source": [
    "df.head()"
   ]
  },
  {
   "cell_type": "code",
   "execution_count": 45,
   "metadata": {},
   "outputs": [
    {
     "data": {
      "text/plain": [
       "(400, 8)"
      ]
     },
     "execution_count": 45,
     "metadata": {},
     "output_type": "execute_result"
    }
   ],
   "source": [
    "df.shape"
   ]
  },
  {
   "cell_type": "code",
   "execution_count": 46,
   "metadata": {},
   "outputs": [
    {
     "data": {
      "text/plain": [
       "Data & Analytics    300\n",
       "Technology           42\n",
       "Security             22\n",
       "Architecture         19\n",
       "Consulting           17\n",
       "Name: division, dtype: int64"
      ]
     },
     "execution_count": 46,
     "metadata": {},
     "output_type": "execute_result"
    }
   ],
   "source": [
    "df['division'].value_counts()"
   ]
  },
  {
   "cell_type": "code",
   "execution_count": 47,
   "metadata": {},
   "outputs": [
    {
     "data": {
      "text/plain": [
       "Data Engineering                107\n",
       "Enterprise Data Architecture    105\n",
       "Data Science                     88\n",
       "Solutions Architecture           28\n",
       "Strategy & Operations            28\n",
       "Network Security                 24\n",
       "Cloud Engineering                20\n",
       "Name: department, dtype: int64"
      ]
     },
     "execution_count": 47,
     "metadata": {},
     "output_type": "execute_result"
    }
   ],
   "source": [
    "df['department'].value_counts()"
   ]
  },
  {
   "cell_type": "code",
   "execution_count": 49,
   "metadata": {},
   "outputs": [
    {
     "data": {
      "text/plain": [
       "Data Architect               113\n",
       "Data Engineer                 97\n",
       "Data Scientist                90\n",
       "Managing Consultant           29\n",
       "Technical Consultant          24\n",
       "Cyber Security Consultant     24\n",
       "Enterprise Architect          23\n",
       "Name: job_title, dtype: int64"
      ]
     },
     "execution_count": 49,
     "metadata": {},
     "output_type": "execute_result"
    }
   ],
   "source": [
    "df['job_title'].value_counts()"
   ]
  },
  {
   "cell_type": "code",
   "execution_count": 52,
   "metadata": {},
   "outputs": [
    {
     "data": {
      "image/png": "[encoded data removed]",
      "text/plain": [
       "<Figure size 640x480 with 1 Axes>"
      ]
     },
     "metadata": {},
     "output_type": "display_data"
    }
   ],
   "source": [
    "# Get count of certifications per job title\n",
    "cert_counts = df.groupby('job_title')['certifications'].count()\n",
    "\n",
    "# Create bar plot\n",
    "cert_counts.plot(kind='bar', title='Certifications by Job Title')\n",
    "\n",
    "plt.xlabel('Job Title')\n",
    "plt.ylabel('Number of Certifications')\n",
    "\n",
    "plt.show()"
   ]
  }
 ],
 "metadata": {
  "kernelspec": {
   "display_name": "bench_linkedin_project",
   "language": "python",
   "name": "python3"
  },
  "language_info": {
   "codemirror_mode": {
    "name": "ipython",
    "version": 3
   },
   "file_extension": ".py",
   "mimetype": "text/x-python",
   "name": "python",
   "nbconvert_exporter": "python",
   "pygments_lexer": "ipython3",
   "version": "3.9.18"
  }
 },
 "nbformat": 4,
 "nbformat_minor": 2
}
